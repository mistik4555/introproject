{
 "cells": [
  {
   "cell_type": "markdown",
   "metadata": {},
   "source": [
    "# Introduction to Data Analysis project part 1\n",
    "## Kassymbayev Kuanysh BDA-1904\n",
    "## General analysis of games on Steam platform"
   ]
  },
  {
   "cell_type": "markdown",
   "metadata": {},
   "source": [
    "### Content\n",
    "1. Introduction: Steam platform\n",
    "2. Data description and objectives\n",
    "3. Research questions"
   ]
  },
  {
   "cell_type": "markdown",
   "metadata": {},
   "source": [
    "## 1. Introduction: Steam platform"
   ]
  },
  {
   "cell_type": "markdown",
   "metadata": {},
   "source": [
    "Steam is a video game digital distribution service by Valve. It was launched as a standalone software client in September 2003 as a way for Valve to provide automatic updates for their games, and expanded to include games from third-party publishers. Steam has also expanded into an online web-based and mobile digital storefront. Steam offers digital rights management (DRM), server hosting, video streaming, and social networking services. It also provides the user with installation and automatic updating of games, and community features such as friends lists and groups, cloud storage, and in-game voice and chat functionality."
   ]
  },
  {
   "cell_type": "markdown",
   "metadata": {},
   "source": [
    "Source(https://en.wikipedia.org/wiki/Steam_(service))"
   ]
  },
  {
   "cell_type": "markdown",
   "metadata": {},
   "source": [
    "## 2. Data description and objectives"
   ]
  },
  {
   "cell_type": "markdown",
   "metadata": {},
   "source": [
    "Dataset was gathered around May 2019, it contains most games on the store released prior to that date. Unreleased titles were removed as well as many non-games like software, though some may have slipped through. It will be interesting to consider some things that we didn't know\n",
    "\n",
    "In dataset we have several csv files:\n",
    "   In the general steam.csv we have:\n",
    "\n",
    "   + appid - identifier for each app\n",
    "   + name - title of game\n",
    "   + release_date - date of release in format YYYY-MM-DD\n",
    "   + english - english is supported in game (1 if yes)\n",
    "   + developer - name of game developer\n",
    "   + publisher - company which stored this game in steam platform\n",
    "   + platform - supported platforms for games like macOS, Windows\n",
    "   + required_age - minimum required age for game by PEGI UK standards\n",
    "   + categories - list of game categories (single-player, multi-player and etc.)\n",
    "   + genres - list of game genres (Action,Casual and etc.)\n",
    "   + steamspy_tags - steamspy game tags, similar to genres but community voted, e.g. action;adventure\n",
    "   + achievements - how many achievements game have (challenges for players)\n",
    "   + positive_ratings - count of positive ratings for the game (in steam you can rate the game like positive or negative)\n",
    "   + negative_ratings - count of negative ratings\n",
    "   + average_playtime - average user playtime\n",
    "   + median_playtime - median user playtime\n",
    "   + owners - estimated number of owners. Contains lower and upper bound (like 20000-50000)\n",
    "   + price - current full price of title in GBP\n"
   ]
  },
  {
   "cell_type": "markdown",
   "metadata": {},
   "source": [
    "## 3. Research questions"
   ]
  },
  {
   "cell_type": "markdown",
   "metadata": {},
   "source": [
    "\n",
    "   + Analyze each genres for reviews (review = positive ratings + negative ratings)\n",
    "   \n",
    "   + Analyze relationship between average playtime with price\n",
    "   \n",
    "   + Analyze games which have required age for age piechart\n",
    "   \n",
    "   + Analyze count of free to play games over the years\n",
    "   \n",
    "   + Analyze list of top developers"
   ]
  },
  {
   "cell_type": "code",
   "execution_count": null,
   "metadata": {
    "scrolled": true
   },
   "outputs": [],
   "source": []
  },
  {
   "cell_type": "code",
   "execution_count": null,
   "metadata": {},
   "outputs": [],
   "source": []
  }
 ],
 "metadata": {
  "kernelspec": {
   "display_name": "Python 3",
   "language": "python",
   "name": "python3"
  },
  "language_info": {
   "codemirror_mode": {
    "name": "ipython",
    "version": 3
   },
   "file_extension": ".py",
   "mimetype": "text/x-python",
   "name": "python",
   "nbconvert_exporter": "python",
   "pygments_lexer": "ipython3",
   "version": "3.8.3"
  }
 },
 "nbformat": 4,
 "nbformat_minor": 4
}
